{
 "cells": [
  {
   "cell_type": "markdown",
   "metadata": {},
   "source": [
    "# Indian pines HSI classification\n"
   ]
  },
  {
   "cell_type": "markdown",
   "metadata": {},
   "source": [
    "## Imports"
   ]
  },
  {
   "cell_type": "code",
   "execution_count": null,
   "metadata": {},
   "outputs": [],
   "source": [
    "import matplotlib.pyplot as plt\n",
    "import sklearn.linear_model as linmod\n",
    "import logging\n",
    "import json\n",
    "import os\n",
    "import numpy as np\n",
    "import matplotlib.pyplot as plt\n",
    "import tables as tab\n",
    "import pandas as pd\n"
   ]
  },
  {
   "cell_type": "markdown",
   "metadata": {},
   "source": [
    "## Config"
   ]
  },
  {
   "cell_type": "code",
   "execution_count": null,
   "metadata": {},
   "outputs": [],
   "source": [
    "random_seed = 42\n",
    "\n",
    "# Configure logging\n",
    "logging.basicConfig(level=logging.INFO, format='%(asctime)s - %(levelname)s - %(message)s')\n",
    "\n",
    "# Directory to save results\n",
    "output_dir = \"model_results\"\n",
    "if not os.path.exists(output_dir):\n",
    "    os.makedirs(output_dir)"
   ]
  },
  {
   "cell_type": "markdown",
   "metadata": {},
   "source": [
    "## Data preprocessing"
   ]
  },
  {
   "cell_type": "markdown",
   "metadata": {},
   "source": [
    "### Define helper functions"
   ]
  },
  {
   "cell_type": "code",
   "execution_count": null,
   "metadata": {},
   "outputs": [],
   "source": [
    "# load some helper functions\n",
    "def get_PRISMA_vnir(path):\n",
    "    file1 = tab.open_file(path)\n",
    "    d2 = file1.get_node(\"/HDFEOS/SWATHS/PRS_L1_HCO/\")\n",
    "    vnir = d2['Data Fields']['VNIR_Cube'][:,3:-3,:]\n",
    "    file1.close()\n",
    "    vnir = vnir.transpose((0, 2, 1))\n",
    "    return vnir\n",
    "\n",
    "def rgbplot(vnir):\n",
    "    rgb_flat = vnir[:,[35,45,52]]\n",
    "    rgb = rgb_flat.reshape((1000, 1000, 3))/ 10000#.\n",
    "    rgb[rgb>1] = 1\n",
    "    plt.imshow(rgb)\n",
    "    #return rgb\n",
    "    \n",
    "def intobatches(orderlist, size):\n",
    "    batches = []\n",
    "    j = 0\n",
    "    while j < len(orderlist):\n",
    "        i = 0\n",
    "        batch = []\n",
    "        while i < size:\n",
    "            try:\n",
    "                batch.append(orderlist[j+i])\n",
    "            except IndexError:\n",
    "                batches.append(batch)\n",
    "                return batches\n",
    "            i += 1\n",
    "        j += i\n",
    "        batches.append(batch)\n",
    "    return batches"
   ]
  },
  {
   "cell_type": "markdown",
   "metadata": {},
   "source": [
    "### Load dataset"
   ]
  },
  {
   "cell_type": "code",
   "execution_count": null,
   "metadata": {},
   "outputs": [],
   "source": [
    "# load list of images\n",
    "path_to_xls = \"./Faubai/2023_02_22_Faubai_dataset_v1.xlsx\"\n",
    "datalist = pd.read_excel(path_to_xls)\n",
    "\n",
    "# remove datetimes that are not a number\n",
    "truetime = datalist['datetime'] > pd.Timestamp(2010)\n",
    "datalist = datalist[truetime]\n",
    "train_data = datalist[datalist['Train'] == 'X']\n",
    "test_data = datalist[datalist['Test'] == 'X']\n",
    "\n",
    "print(datalist)\n",
    "\n",
    "# find the relevant files\n",
    "path = \"./Faubai/\"\n",
    "\n",
    "fname_dict = {}\n",
    "for i in range(len(datalist)):\n",
    "    for root,d_names,f_names in os.walk(path):\n",
    "        for f in f_names:\n",
    "            if f == datalist['name'][i] + \".he5\":\n",
    "                fname_dict[datalist['name'][i]] = (os.path.join(root, f))\n",
    "                \n",
    "# find the labels also               \n",
    "lname_dict = {}\n",
    "for i in range(len(datalist)):\n",
    "    for root,d_names,f_names in os.walk(path):\n",
    "        for f in f_names:\n",
    "            if (datalist['name'][i] in f) and (\"labels.csv\" in f):\n",
    "                lname_dict[datalist['name'][i]] = (os.path.join(root, f))\n",
    "\n",
    "\n",
    "# determine images to include in training\n",
    "training_files = [[fname_dict[i], lname_dict[i]] for i in train_data['name']]\n",
    "\n",
    "print(training_files)\n",
    "\n",
    "\n",
    "# determine images to include in test\n",
    "test_files = [[fname_dict[i], lname_dict[i]] for i in test_data['name']]\n",
    "\n",
    "print(test_files)\n"
   ]
  },
  {
   "cell_type": "code",
   "execution_count": null,
   "metadata": {},
   "outputs": [],
   "source": [
    "# load first image\n",
    "# extract VNIR component\n",
    "vnir = get_PRISMA_vnir(training_files[0][0])\n",
    "labels = np.loadtxt(training_files[0][1], dtype=np.uint8)\n",
    "vnir = vnir.reshape((-1, 60))\n",
    "labels = labels.flatten()\n",
    "\n",
    "# get a random selection of the pixels\n",
    "random_selection = np.arange(len(vnir))\n",
    "np.random.shuffle(random_selection)\n",
    "\n",
    "# initialize SVM on VNIR\n",
    "svm2train = linmod.SGDClassifier(max_iter=10000, tol=1e-3, eta0=0.1, learning_rate='adaptive')\n",
    "svm2train.fit(vnir[random_selection[:10000]], labels[random_selection[:10000]])\n",
    "\n",
    "# do prediction on the scene\n",
    "prediction = svm2train.predict(vnir)\n",
    "\n",
    "# plot the prediction\n",
    "fig, ax = plt.subplots(1,2)\n",
    "ax[0].imshow(labels.reshape((1000,1000)))\n",
    "ax[1].imshow(prediction.reshape((1000,1000)))\n",
    "\n",
    "#print accuracy\n",
    "scores = []\n",
    "for i in np.arange(6):\n",
    "    m = labels==i\n",
    "    scores.append((labels[m]==prediction[m]).sum()/m.sum())\n",
    "\n",
    "# save score in output directory\n",
    "with open(os.path.join(output_dir, \"svm2train_scores.json\"), \"w\") as f:\n",
    "    json.dump(scores, f)\n",
    "print(scores)"
   ]
  }
 ],
 "metadata": {
  "kernelspec": {
   "display_name": "Python 3",
   "language": "python",
   "name": "python3"
  },
  "language_info": {
   "codemirror_mode": {
    "name": "ipython",
    "version": 3
   },
   "file_extension": ".py",
   "mimetype": "text/x-python",
   "name": "python",
   "nbconvert_exporter": "python",
   "pygments_lexer": "ipython3",
   "version": "3.12.5"
  }
 },
 "nbformat": 4,
 "nbformat_minor": 2
}
